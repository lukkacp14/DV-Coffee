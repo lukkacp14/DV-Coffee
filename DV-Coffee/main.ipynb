{
 "cells": [
  {
   "cell_type": "markdown",
   "metadata": {},
   "source": [
    "<h1>Coffee (Worldwide) - Data Visualisation</h1>"
   ]
  },
  {
   "cell_type": "markdown",
   "metadata": {},
   "source": [
    "<h2>List of content:</h2>\n",
    "<ol>\n",
    "    <li>Used Libraries</li>\n",
    "    <li>Functions</li>\n",
    "    <li>Connecting to database</li>\n",
    "    <li>Loading data</li>\n",
    "    <li>Creating tables</li>\n",
    "    <li>Analasys:</li>\n",
    "    <ul>\n",
    "        <li>Analysis Goals</li>\n",
    "        <li>Analising data:</li>\n",
    "        <ul>\n",
    "            <li>Domestic Consumption</li>\n",
    "            <li>Imports</li>\n",
    "            <li>Retail Prices</li>\n",
    "            <li>Total Production</li>\n",
    "        </ul>\n",
    "    </ul>\n",
    " </ol>"
   ]
  },
  {
   "cell_type": "markdown",
   "metadata": {},
   "source": [
    "<h3>1. Used Libraries</h3>"
   ]
  },
  {
   "cell_type": "code",
   "execution_count": null,
   "metadata": {},
   "outputs": [],
   "source": [
    "import csv\n",
    "import sqlite3 as sql\n",
    "import matplotlib.pyplot as plt\n",
    "import pandas as pd\n",
    "import numpy as np"
   ]
  },
  {
   "cell_type": "markdown",
   "metadata": {},
   "source": [
    "<h3>2. Functions</h3>"
   ]
  },
  {
   "cell_type": "markdown",
   "metadata": {},
   "source": [
    "<h4><b>1) Table Creator</b></h4>\n",
    "<p>\n",
    "    &ensp;<b>Description:</b></br> \n",
    "    &ensp;Create table based on given name, .csv file,</br> \n",
    "    &ensp;CREATE (queryCreate) and INSERT (queryInsert) queries.\n",
    "</p>\n",
    "<p>\n",
    "    &ensp;<b style = \"color:red\";>NOTE</b></br>\n",
    "    &ensp;\n",
    "    If database exist, code won't be executed and will return OperationalError.\n",
    "    </br>\n",
    "    &ensp;To make it work, delete file called \"coffee.db\" from folder.</br>\n",
    "</p>"
   ]
  },
  {
   "cell_type": "code",
   "execution_count": null,
   "metadata": {},
   "outputs": [],
   "source": [
    "def createTable(file, tableName, queryCreate, queryInsert):\n",
    "    \n",
    "    variablesTemp = []  #   Creating list of variables used in queryCreate\n",
    "                        #   which will contain table name and column names\n",
    "\n",
    "    variablesTemp.append(tableName)\n",
    "\n",
    "    with open(file) as f:\n",
    "        readf = csv.reader(f, delimiter= ';')\n",
    "        header = next(readf)   #    list of column names \n",
    "        [variablesTemp.append(col) for col in header]\n",
    "        cur.execute(queryCreate % tuple(variablesTemp))  #   Executing query\n",
    "        rows = [row for row in readf]\n",
    "\n",
    "        #   Inserting data into table\n",
    "        for row in rows:\n",
    "            variablesTemp = []  #   Creating list of variables used in queryInsert\n",
    "                                #   which will contain table name and data\n",
    "            variablesTemp.append(tableName)\n",
    "            [variablesTemp.append(col) for col in row]\n",
    "\n",
    "            #   Replacing apsotrophe (') to backtiks (`), becouse apostrophe\n",
    "            #   in variable breaks query\n",
    "\n",
    "            variablesTemp = [variable.replace(\"'\",\"`\") \n",
    "                             for variable in variablesTemp]\n",
    "            \n",
    "            cur.execute(queryInsert % tuple(variablesTemp))  #  Executing query\n",
    "            con.commit()"
   ]
  },
  {
   "cell_type": "markdown",
   "metadata": {},
   "source": [
    "<h4><b>2) Querry To List</b></h4>\n",
    "<p>\n",
    "    &ensp;<b>Description:</b></br>\n",
    "    &ensp;Creates nested list based on provided table name,</br> \n",
    "    &ensp;SELECT query, list of columns (used in query) and filter</br>\n",
    "    &ensp;(for WHERE condition which is used in query)</br>\n",
    "</p>"
   ]
  },
  {
   "cell_type": "code",
   "execution_count": null,
   "metadata": {},
   "outputs": [],
   "source": [
    "def querryList(tableName, # name of table \n",
    "               query, #    string variable which contains SELECTION querry\n",
    "               columns = '',    #    list of columns used in querry\n",
    "               filter = '' #   used for WHERE condition in querry\n",
    "                ):\n",
    "    \n",
    "    variables = []\n",
    "    #   Adding comprehensive list of column names to variables used in querry\n",
    "    if columns: #   Adding not empty list of column\n",
    "        variables = [column for column in columns]\n",
    "\n",
    "    #   Adding table name to the list of variables\n",
    "    variables.append(tableName)\n",
    "    \n",
    "    if filter:  #   Adding not empty filter\n",
    "        variables.append(filter)\n",
    "\n",
    "    #   Executing querry with variables given in function\n",
    "    res = cur.execute(query% tuple(variables))\n",
    "    \n",
    "    #  Writing query to list \n",
    "    listData = res.fetchall()\n",
    "\n",
    "    #   Return nested list\n",
    "    return listData"
   ]
  },
  {
   "cell_type": "markdown",
   "metadata": {},
   "source": [
    "<h3>3. Connecting to database</h3>"
   ]
  },
  {
   "cell_type": "code",
   "execution_count": null,
   "metadata": {},
   "outputs": [],
   "source": [
    "con = sql.connect(\"coffee.db\")\n",
    "cur = con.cursor() #    Creating cursor which will be resposible for\n",
    "                   #    executing queries"
   ]
  },
  {
   "cell_type": "markdown",
   "metadata": {},
   "source": [
    "<h3>4. Loading data</h3>"
   ]
  },
  {
   "cell_type": "markdown",
   "metadata": {},
   "source": [
    "<p>\n",
    "    Creating dictionary with file names (in .csv format) and table names</br>\n",
    "    assigned to those files.</br>\n",
    "</p>"
   ]
  },
  {
   "cell_type": "code",
   "execution_count": null,
   "metadata": {},
   "outputs": [],
   "source": [
    "#   dict = {file_name: table_name}\n",
    "files = { \n",
    "    \"retail-prices.csv\": \"prices\",\n",
    "    \"imports.csv\": \"imports\",\n",
    "    \"total-production.csv\": \"production\"\n",
    "        }"
   ]
  },
  {
   "cell_type": "markdown",
   "metadata": {},
   "source": [
    "<h4>Data description</h4>\n",
    "<p>Used files:</p>\n",
    "<ul>\n",
    "  <li><b>retail-prices.csv</b> - Retail prices of roasted coffee in\n",
    "    selected importing countries</li>\n",
    "  <li><b>imports.csv</b> - Imports by selected importing countries</li>\n",
    "  <li><b>total-production.csv</b> - Total production by all exporting</br>\n",
    "    countries</li>\n",
    "</ul>\n",
    "<b style = 'color:red'>Note</b>\n",
    "<p>Files have been modified with use of Microsoft Excel for the purpose of<br>\n",
    "data visualization</p>\n",
    "Original dataset: \n",
    "<a href=\n",
    "\"https://www.kaggle.com/datasets/yamaerenay/ico-coffee-dataset-worldwide\">\n",
    "  Link\n",
    "</a>"
   ]
  },
  {
   "cell_type": "markdown",
   "metadata": {},
   "source": [
    "<h3>5. Creating tables from given files</h3>"
   ]
  },
  {
   "cell_type": "code",
   "execution_count": null,
   "metadata": {},
   "outputs": [],
   "source": [
    "queryCreate = \"CREATE TABLE %s (%s VARCHAR, %s VARCHAR, %s FLOAT)\"\n",
    "queryInsert = \"INSERT INTO %s VALUES('%s', '%s', '%s')\"\n",
    "\n",
    "for file, tableName in files.items():\n",
    "    createTable(file, tableName, queryCreate, queryInsert)"
   ]
  },
  {
   "cell_type": "markdown",
   "metadata": {},
   "source": [
    "<h3>6. Analasys</h3>"
   ]
  },
  {
   "cell_type": "markdown",
   "metadata": {},
   "source": [
    "<h4>&ensp;Analysis Goals</h4>\n",
    "<ol>\n",
    "    <li>Total summary</li>\n",
    "    <li>Summary of average values over the years</li>\n",
    "    <li>Summary of chosen country</li>\n",
    "    <li>Summary of chosen year</li>\n",
    "</ol>\n",
    "\n",
    "<p>Used mesurments:</p>\n",
    "<ul>\n",
    "    <li>number of records(count),</li> \n",
    "    <li>mean value(mean),</li>\n",
    "    <li> <a href=\"https://en.wikipedia.org/wiki/Standard_deviation\">\n",
    "    standard deviation(std),</a></li>\n",
    "    <li>minimum(min) and maximum(max) value,</li>\n",
    "    <li> <a href=\"https://en.wikipedia.org/wiki/Quartile\">\n",
    "    first(25%), second(50%) and third(75%) quartile</a></li>\n",
    "</ul>\n",
    "\n",
    "<p>Used graphs:</p>\n",
    "<ul>\n",
    "    <li>Linear</li>\n",
    "    <li>Column (Horizontal)</li>\n",
    "</ul>\n"
   ]
  },
  {
   "cell_type": "markdown",
   "metadata": {},
   "source": [
    "<h4>&ensp;Analysing data</h4>\n",
    "<p>Used queries:</p>\n"
   ]
  },
  {
   "cell_type": "code",
   "execution_count": null,
   "metadata": {},
   "outputs": [],
   "source": [
    "queryINF = \"PRAGMA table_info(%s)\"  #   table information\n",
    "queryAll = \"SELECT * FROM %s\"   #   all data from table\n",
    "queryAVG = \"SELECT %s, AVG(%s) FROM %s GROUP BY 1\"\n",
    "queryWhereCountry = \"SELECT * FROM %s WHERE Country = '%s'\"\n",
    "queryWhereYear = \"SELECT * FROM %s WHERE Year = '%s'\""
   ]
  },
  {
   "cell_type": "markdown",
   "metadata": {},
   "source": [
    "<h5>&emsp;<b>Retail Prices</b></h5>"
   ]
  },
  {
   "cell_type": "markdown",
   "metadata": {},
   "source": [
    "<p>&emsp;1. Total summary</p>"
   ]
  },
  {
   "cell_type": "markdown",
   "metadata": {},
   "source": [
    "<p>Creating dataframe and summary</p>"
   ]
  },
  {
   "cell_type": "code",
   "execution_count": null,
   "metadata": {},
   "outputs": [],
   "source": [
    "table = 'prices'\n",
    "\n",
    "    #   Getting column names from table\n",
    "data = querryList(table, queryINF)\n",
    "header = [col[1] for col in data]\n",
    "\n",
    "    #   Getting table data\n",
    "data = querryList(table, queryAll)\n",
    "\n",
    "    #   Data Frame\n",
    "dataframe = pd.DataFrame(data, columns=header)\n",
    "dataframe = dataframe.replace('', np.nan)   #   Converting empty string  \n",
    "                                            #   and 0 to 'Not a Number'\n",
    "dataframe = dataframe.dropna() # removing records with NaN values\n",
    "pd.set_option(\"display.max_rows\", 25)\n",
    "display(dataframe)\n",
    "    #   Summary \n",
    "\n",
    "maxRow = dataframe.loc[dataframe['Value'] == max(dataframe['Value']), \n",
    "                        ['Country', 'Year']]\n",
    "maxRow = maxRow.iloc[0]\n",
    "\n",
    "minRow = dataframe.loc[dataframe['Value'] == min(dataframe['Value']), \n",
    "                        ['Country', 'Year']]\n",
    "minRow = minRow.iloc[0]\n",
    "\n",
    "print(\"SUMMARY\")\n",
    "print(\"Country with highest value: %s in year: %s\"% \n",
    "      (maxRow.iloc[0], maxRow.iloc[1]))\n",
    "print(\"Country with lowest value: %s in year: %s\"% \n",
    "      (minRow.iloc[0], minRow.iloc[1]))\n",
    "dataframe.describe()"
   ]
  },
  {
   "cell_type": "markdown",
   "metadata": {},
   "source": [
    "<p>&emsp;2. Summary of average values over the years</p>"
   ]
  },
  {
   "cell_type": "markdown",
   "metadata": {},
   "source": [
    "<p>Creating Dataframe and summary</p>"
   ]
  },
  {
   "cell_type": "code",
   "execution_count": null,
   "metadata": {},
   "outputs": [],
   "source": [
    "cols = ['Year', 'Value']\n",
    "data = querryList(table, queryAVG, cols)\n",
    "\n",
    "dataframe = pd.DataFrame(data, columns = ['Year', 'Average Value'])\n",
    "display(dataframe)\n",
    "dataframe.describe()\n",
    "\n",
    "maxAVG = dataframe.loc[dataframe['Average Value'] == \n",
    "                       max(dataframe['Average Value']), 'Year']\n",
    "maxAVG = maxAVG.iloc[0]\n",
    "\n",
    "minAVG = dataframe.loc[dataframe['Average Value'] == \n",
    "                       min(dataframe['Average Value']), 'Year']\n",
    "minAVG = minAVG.iloc[0]\n",
    "\n",
    "print(\"SUMMARY\")\n",
    "print(\"Year with highest average value: %s\"% maxAVG)\n",
    "print(\"Year with lowest average value: %s\"% minAVG)\n",
    "dataframe.describe()"
   ]
  },
  {
   "cell_type": "markdown",
   "metadata": {},
   "source": [
    "<p>Creating graph</p>"
   ]
  },
  {
   "cell_type": "code",
   "execution_count": null,
   "metadata": {},
   "outputs": [],
   "source": [
    "yearsPrice = list(dataframe[\"Year\"])\n",
    "avgPrice = list(dataframe[\"Average Value\"])\n",
    "\n",
    "plt.style.use('ggplot')\n",
    "plt.figure(figsize=(14,5))\n",
    "plt.plot(yearsPrice, avgPrice, linewidth = 4)\n",
    "\n",
    "plt.title('Average Retail prices of roasted coffee'\n",
    "            '\\n in selected importing countries over the years 1990 - 2018' \n",
    "            '\\n (In USD/kg)', fontsize = 18)\n",
    "plt.xlabel('Year', fontsize = 16)\n",
    "plt.ylabel('(USD / kg)', fontsize = 16)\n",
    "\n",
    "plt.xticks([i for i in range(0, 29, 2)], fontsize = 12)\n",
    "plt.yticks([j for j in range(8, 16, 2)], fontsize = 12)\n",
    "\n",
    "plt.show()"
   ]
  },
  {
   "cell_type": "markdown",
   "metadata": {},
   "source": [
    "<p>&emsp;3. Summary of chosen country</p>"
   ]
  },
  {
   "cell_type": "markdown",
   "metadata": {},
   "source": [
    "<p>Creating Dataframe and summary</p>"
   ]
  },
  {
   "cell_type": "code",
   "execution_count": null,
   "metadata": {},
   "outputs": [],
   "source": [
    "country = input(\"Insert country name: \")\n",
    "#country = \"Norway\" #    Example value\n",
    "data = querryList(table, queryWhereCountry, filter = country)\n",
    "\n",
    "dataframe = pd.DataFrame(data, columns = header)\n",
    "dataframe = dataframe.replace('', np.nan)   #   Converting empty string  \n",
    "                                            #    and 0 t 'Not a Number'\n",
    "dataframe = dataframe.dropna() # removing records with NaN values\n",
    "dataframe = dataframe.drop(columns = 'Country')\n",
    "print(\"Chosen country: %s\"% country.upper())\n",
    "display(dataframe)\n",
    "\n",
    "maxYear = dataframe.loc[dataframe['Value'] == max(dataframe['Value']), 'Year']\n",
    "maxYear = maxYear.iloc[0]\n",
    "\n",
    "minYear = dataframe.loc[dataframe['Value'] == min(dataframe['Value']), 'Year']\n",
    "minYear = minYear.iloc[0]\n",
    "\n",
    "print(\"SUMMARY\")\n",
    "print(\"Year with highest value: %s\"% maxYear)\n",
    "print(\"Year with lowest value: %s\"% minYear)\n",
    "dataframe.describe()"
   ]
  },
  {
   "cell_type": "markdown",
   "metadata": {},
   "source": [
    "<p>Creating graph</p>"
   ]
  },
  {
   "cell_type": "code",
   "execution_count": null,
   "metadata": {},
   "outputs": [],
   "source": [
    "yearsCountry = list(dataframe['Year'])\n",
    "valueCountry = list(dataframe['Value'])\n",
    "\n",
    "plt.style.use('ggplot')\n",
    "plt.figure(figsize=(14,5))\n",
    "plt.plot(yearsCountry, valueCountry, linewidth = 4)\n",
    "\n",
    "plt.title('Retail prices in %s'\n",
    "        '\\n  over the years 1990 - 2018' \n",
    "        '\\n (In USD/kg)'% country, fontsize = 18)\n",
    "\n",
    "plt.xlabel('Year', fontsize = 16)\n",
    "plt.ylabel('(USD / kg)', fontsize = 16)\n",
    "\n",
    "plt.xticks([i for i in range(0, 29, 2)], fontsize = 12)\n",
    "plt.yticks(fontsize = 12)\n",
    "\n",
    "plt.show()"
   ]
  },
  {
   "cell_type": "markdown",
   "metadata": {},
   "source": [
    "<p>&emsp;4. Summary of chosen year</p>"
   ]
  },
  {
   "cell_type": "markdown",
   "metadata": {},
   "source": [
    "<p>Creating Dataframe and summary</p>"
   ]
  },
  {
   "cell_type": "code",
   "execution_count": null,
   "metadata": {},
   "outputs": [],
   "source": [
    "year = input(\"Insert year: \")\n",
    "#year = \"2018\" #    Example value\n",
    "data = querryList(table, queryWhereYear, filter = year)\n",
    "\n",
    "dataframe = pd.DataFrame(data, columns = header)\n",
    "dataframe = dataframe.replace('-', np.nan)   #   Converting empty string to  \n",
    "                                            #   Not a Number\n",
    "dataframe = dataframe.dropna() # removing records with NaN values\n",
    "dataframe = dataframe.drop(columns = 'Year')\n",
    "print(\"Chosen year: %s\"% year)\n",
    "display(dataframe)\n",
    "\n",
    "maxCountry = dataframe.loc[dataframe['Value'] \n",
    "                        == max(dataframe['Value']), 'Country']\n",
    "maxCountry = maxCountry.iloc[0]\n",
    "\n",
    "minCountry = dataframe.loc[dataframe['Value'] \n",
    "                        == min(dataframe['Value']), 'Country']\n",
    "minCountry = minCountry.iloc[0]\n",
    "\n",
    "print(\"SUMMARY\")\n",
    "print(\"Country with highest value: %s\"% maxCountry)\n",
    "print(\"Country with lowest value: %s\"% minCountry)\n",
    "dataframe.describe()"
   ]
  },
  {
   "cell_type": "markdown",
   "metadata": {},
   "source": [
    "<p>Creating graph</p>"
   ]
  },
  {
   "cell_type": "code",
   "execution_count": null,
   "metadata": {},
   "outputs": [],
   "source": [
    "dataframe = dataframe.sort_values(by = 'Value', axis = 0)\n",
    "countriesYear = list(dataframe['Country'])\n",
    "valueYear = list(dataframe['Value'])\n",
    "\n",
    "plt.style.use('ggplot')\n",
    "plt.figure(figsize=(14,5))\n",
    "plt.barh(countriesYear, valueYear)\n",
    "plt.title(\"Retail prices of roasted coffee in year %s (In USD/kg)\"% year)\n",
    "plt.ylabel(\"Country\")\n",
    "plt.xlabel(\"Value (USD/kg)\")\n",
    "\n",
    "plt.show()"
   ]
  },
  {
   "cell_type": "markdown",
   "metadata": {},
   "source": [
    "<h5>&emsp;<b>Imports</b></h5>"
   ]
  },
  {
   "cell_type": "markdown",
   "metadata": {},
   "source": [
    "<p>&emsp;1. Total summary</p>"
   ]
  },
  {
   "cell_type": "markdown",
   "metadata": {},
   "source": [
    "<p>Creating dataframe and summary</p>\n"
   ]
  },
  {
   "cell_type": "code",
   "execution_count": null,
   "metadata": {},
   "outputs": [],
   "source": [
    "table = 'imports'\n",
    "\n",
    "    #   Getting column names from table\n",
    "data = querryList(table, queryINF)\n",
    "header = [col[1] for col in data]\n",
    "\n",
    "    #   Getting table data\n",
    "data = querryList(table, queryAll)\n",
    "\n",
    "    #   Data Frame\n",
    "dataframe = pd.DataFrame(data, columns=header)\n",
    "dataframe = dataframe.replace('', np.nan)   #   Converting empty string to  \n",
    "                                            #   Not a Number\n",
    "dataframe = dataframe.dropna() # removing records with NaN values\n",
    "pd.set_option(\"display.max_rows\", 25)\n",
    "display(dataframe)\n",
    "    #   Summary \n",
    "\n",
    "maxRow = dataframe.loc[dataframe['Value'] == max(dataframe['Value']), \n",
    "                        ['Country', 'Year']]\n",
    "maxRow = maxRow.iloc[0]\n",
    "\n",
    "minRow = dataframe.loc[dataframe['Value'] == min(dataframe['Value']), \n",
    "                        ['Country', 'Year']]\n",
    "minRow = minRow.iloc[0]\n",
    "\n",
    "print(\"SUMMARY\")\n",
    "print(\"Country with highest value: '%s' in year: '%s'\"% \n",
    "      (maxRow.iloc[0], maxRow.iloc[1]))\n",
    "print(\"Country with lowest value: '%s' in year: '%s'\"% \n",
    "      (minRow.iloc[0], minRow.iloc[1]))\n",
    "dataframe.describe()"
   ]
  },
  {
   "cell_type": "markdown",
   "metadata": {},
   "source": [
    "<p>&emsp;2. Summary of average values over the years</p>"
   ]
  },
  {
   "cell_type": "markdown",
   "metadata": {},
   "source": [
    "<p>Creating Dataframe and summary</p>\n"
   ]
  },
  {
   "cell_type": "code",
   "execution_count": null,
   "metadata": {},
   "outputs": [],
   "source": [
    "cols = ['Year', 'Value']\n",
    "data = querryList(table, queryAVG, cols)\n",
    "\n",
    "dataframe = pd.DataFrame(data, columns = ['Year', 'Average Value'])\n",
    "display(dataframe)\n",
    "dataframe.describe()\n",
    "\n",
    "maxAVG = dataframe.loc[dataframe['Average Value'] == \n",
    "                       max(dataframe['Average Value']), 'Year']\n",
    "maxAVG = maxAVG.iloc[0]\n",
    "\n",
    "minAVG = dataframe.loc[dataframe['Average Value'] == \n",
    "                       min(dataframe['Average Value']), 'Year']\n",
    "minAVG = minAVG.iloc[0]\n",
    "\n",
    "print(\"SUMMARY\")\n",
    "print(\"Year with highest average value: %s\"% maxAVG)\n",
    "print(\"Year with lowest average value: %s\"% minAVG)\n",
    "dataframe.describe()"
   ]
  },
  {
   "cell_type": "markdown",
   "metadata": {},
   "source": [
    "<p>Creating graph</p>\n"
   ]
  },
  {
   "cell_type": "code",
   "execution_count": null,
   "metadata": {},
   "outputs": [],
   "source": [
    "yearsPrice = list(dataframe[\"Year\"])\n",
    "avgPrice = list(dataframe[\"Average Value\"])\n",
    "\n",
    "plt.style.use('ggplot')\n",
    "plt.figure(figsize=(14,5))\n",
    "plt.plot(yearsPrice, avgPrice, linewidth = 4)\n",
    "\n",
    "plt.title('Average imports of roasted coffee'\n",
    "            '\\n in selected importing countries over the years 1990 - 2018' \n",
    "            '\\n (In thousand 60-kg bags)', fontsize = 18)\n",
    "plt.xlabel('Year', fontsize = 16)\n",
    "plt.ylabel('(USD / kg)', fontsize = 16)\n",
    "\n",
    "plt.xticks([i for i in range(0, 29, 2)], fontsize = 12)\n",
    "plt.yticks(fontsize = 12)\n",
    "\n",
    "plt.show()"
   ]
  },
  {
   "cell_type": "markdown",
   "metadata": {},
   "source": [
    "<p>&emsp;3. Summary of chosen country</p>"
   ]
  },
  {
   "cell_type": "markdown",
   "metadata": {},
   "source": [
    "<p> Creating Dataframe and summary</p>\n"
   ]
  },
  {
   "cell_type": "code",
   "execution_count": null,
   "metadata": {},
   "outputs": [],
   "source": [
    "country = input(\"Insert country name: \")\n",
    "#country = \"Austria\" #    Example value\n",
    "data = querryList(table, queryWhereCountry, filter = country)\n",
    "\n",
    "dataframe = pd.DataFrame(data, columns = header)\n",
    "dataframe = dataframe.replace(['',0], np.nan)   #   Converting empty string to  \n",
    "                                            #   Not a Number\n",
    "dataframe = dataframe.dropna() # removing records with NaN values\n",
    "dataframe = dataframe.drop(columns = 'Country')\n",
    "print(\"Chosen country: %s\"% country.upper())\n",
    "display(dataframe)\n",
    "\n",
    "maxYear = dataframe.loc[dataframe['Value'] == max(dataframe['Value']), 'Year']\n",
    "maxYear = maxYear.iloc[0]\n",
    "\n",
    "minYear = dataframe.loc[dataframe['Value'] == min(dataframe['Value']), 'Year']\n",
    "minYear = minYear.iloc[0]\n",
    "\n",
    "print(\"SUMMARY\")\n",
    "print(\"Year with highest value: %s\"% maxYear)\n",
    "print(\"Year with lowest value: %s\"% minYear)\n",
    "dataframe.describe()"
   ]
  },
  {
   "cell_type": "markdown",
   "metadata": {},
   "source": [
    "<p>Creating graph</p>\n"
   ]
  },
  {
   "cell_type": "code",
   "execution_count": null,
   "metadata": {},
   "outputs": [],
   "source": [
    "yearsCountry = list(dataframe[\"Year\"])\n",
    "valueCountry = list(dataframe[\"Value\"])\n",
    "\n",
    "plt.style.use('ggplot')\n",
    "plt.figure(figsize=(14,5))\n",
    "plt.plot(yearsCountry, valueCountry, linewidth = 4)\n",
    "\n",
    "plt.title('Imports in %s'\n",
    "        '\\n  over the years 1990 - 2018' \n",
    "        '\\n (In thousand 60-kg bags)'% country, fontsize = 18)\n",
    "\n",
    "plt.xlabel('Year', fontsize = 16)\n",
    "plt.ylabel('(USD / kg)', fontsize = 16)\n",
    "\n",
    "plt.xticks([i for i in range(0, 29, 2)], fontsize = 12)\n",
    "plt.yticks(fontsize = 12)\n",
    "\n",
    "plt.show()"
   ]
  },
  {
   "cell_type": "markdown",
   "metadata": {},
   "source": [
    "<p>&emsp;4. Summary of chosen year</p>"
   ]
  },
  {
   "cell_type": "markdown",
   "metadata": {},
   "source": [
    "<p>Creating Dataframe and summary</p>\n"
   ]
  },
  {
   "cell_type": "code",
   "execution_count": null,
   "metadata": {},
   "outputs": [],
   "source": [
    "year = input(\"Insert year: \")\n",
    "#year = \"2010\" #    Example value\n",
    "data = querryList(table, queryWhereYear, filter = year)\n",
    "\n",
    "dataframe = pd.DataFrame(data, columns = header)\n",
    "dataframe = dataframe.replace(['', 0], np.nan)   # Converting empty string  \n",
    "                                            # and 0 to 'Not a Number' value\n",
    "dataframe = dataframe.dropna() # removing records with NaN values\n",
    "dataframe = dataframe.drop(columns = 'Year')\n",
    "print(\"Chosen year: %s\"% year)\n",
    "display(dataframe)\n",
    "dataframe.describe()\n",
    "\n",
    "maxCountry = dataframe.loc[dataframe['Value'] \n",
    "                        == max(dataframe['Value']), 'Country']\n",
    "maxCountry = maxCountry.iloc[0]\n",
    "\n",
    "minCountry = dataframe.loc[dataframe['Value'] \n",
    "                        == min(dataframe['Value']), 'Country']\n",
    "minCountry = minCountry.iloc[0]\n",
    "\n",
    "print(\"SUMMARY\")\n",
    "print(\"Country with highest value: %s\"% maxCountry)\n",
    "print(\"Country with lowest value: %s\"% minCountry)\n",
    "dataframe.describe()"
   ]
  },
  {
   "cell_type": "markdown",
   "metadata": {},
   "source": [
    "<p>Creating graph</p>"
   ]
  },
  {
   "cell_type": "code",
   "execution_count": null,
   "metadata": {},
   "outputs": [],
   "source": [
    "dataframe = dataframe.sort_values(by = 'Value', axis = 0)\n",
    "countriesYear = list(dataframe['Country'])\n",
    "valueYear = list(dataframe['Value'])\n",
    "\n",
    "plt.style.use('ggplot')\n",
    "plt.figure(figsize=(14,11))\n",
    "plt.barh(countriesYear, valueYear)\n",
    "plt.title(\"Imports of roasted coffee in year %s (In USD/kg)\"% year)\n",
    "plt.ylabel(\"Country\")\n",
    "plt.xlabel(\"Value (In thousand 60-kg bags)\")\n",
    "\n",
    "plt.show()"
   ]
  },
  {
   "cell_type": "markdown",
   "metadata": {},
   "source": [
    "<h5>&emsp;<b>Total production</b></h5>"
   ]
  },
  {
   "cell_type": "markdown",
   "metadata": {},
   "source": [
    "<p>&emsp;1. Total summary</p>"
   ]
  },
  {
   "cell_type": "markdown",
   "metadata": {},
   "source": [
    "<p>Creating dataframe and summary</p>\n"
   ]
  },
  {
   "cell_type": "code",
   "execution_count": null,
   "metadata": {},
   "outputs": [],
   "source": [
    "table = 'production'\n",
    "\n",
    "    #   Getting column names from table\n",
    "data = querryList(table, queryINF)\n",
    "header = [col[1] for col in data]\n",
    "\n",
    "    #   Getting table data\n",
    "data = querryList(table, queryAll)\n",
    "\n",
    "    #   Data Frame\n",
    "dataframe = pd.DataFrame(data, columns=header)\n",
    "dataframe = dataframe.replace('', np.nan)   #   Converting empty string  \n",
    "                                            # and 0 to 'Not a Number'\n",
    "dataframe = dataframe.dropna() # removing records with NaN values\n",
    "pd.set_option(\"display.max_rows\", 25)\n",
    "display(dataframe)\n",
    "    #   Summary \n",
    "\n",
    "maxRow = dataframe.loc[dataframe['Value'] == max(dataframe['Value']), \n",
    "                        ['Country', 'Year']]\n",
    "maxRow = maxRow.iloc[0]\n",
    "\n",
    "minRow = dataframe.loc[dataframe['Value'] == min(dataframe['Value']), \n",
    "                        ['Country', 'Year']]\n",
    "minRow = minRow.iloc[0]\n",
    "\n",
    "print(\"SUMMARY\")\n",
    "print(\"Country with highest value: '%s' in year: '%s'\"% \n",
    "      (maxRow.iloc[0], maxRow.iloc[1]))\n",
    "print(\"Country with lowest value: '%s' in year: '%s'\"% \n",
    "      (minRow.iloc[0], minRow.iloc[1]))\n",
    "dataframe.describe()"
   ]
  },
  {
   "cell_type": "markdown",
   "metadata": {},
   "source": [
    "<p>&emsp;2. Summary of average values over the years</p>"
   ]
  },
  {
   "cell_type": "markdown",
   "metadata": {},
   "source": [
    "<p>Creating Dataframe and summary</p>\n"
   ]
  },
  {
   "cell_type": "code",
   "execution_count": null,
   "metadata": {},
   "outputs": [],
   "source": [
    "cols = ['Year', 'Value']\n",
    "data = querryList(table, queryAVG, cols)\n",
    "\n",
    "dataframe = pd.DataFrame(data, columns = ['Year', 'Average Value'])\n",
    "display(dataframe)\n",
    "dataframe.describe()\n",
    "\n",
    "maxAVG = dataframe.loc[dataframe['Average Value'] == \n",
    "                       max(dataframe['Average Value']), 'Year']\n",
    "maxAVG = maxAVG.iloc[0]\n",
    "\n",
    "minAVG = dataframe.loc[dataframe['Average Value'] == \n",
    "                       min(dataframe['Average Value']), 'Year']\n",
    "minAVG = minAVG.iloc[0]\n",
    "\n",
    "print(\"SUMMARY\")\n",
    "print(\"Year with highest average value: %s\"% maxAVG)\n",
    "print(\"Year with lowest average value: %s\"% minAVG)\n",
    "dataframe.describe()"
   ]
  },
  {
   "cell_type": "markdown",
   "metadata": {},
   "source": [
    "<p>Creating graph</p>"
   ]
  },
  {
   "cell_type": "code",
   "execution_count": null,
   "metadata": {},
   "outputs": [],
   "source": [
    "yearsPrice = list(dataframe[\"Year\"])\n",
    "avgPrice = list(dataframe[\"Average Value\"])\n",
    "\n",
    "plt.style.use('ggplot')\n",
    "plt.figure(figsize=(14,5))\n",
    "plt.plot(yearsPrice, avgPrice, linewidth = 4)\n",
    "\n",
    "plt.title('Average production of roasted coffee'\n",
    "            '\\n in selected importing countries over the years 1990 - 2018' \n",
    "            '\\n (In thousand 60-kg bags)', fontsize = 18)\n",
    "plt.xlabel('Year', fontsize = 16)\n",
    "plt.ylabel('(USD / kg)', fontsize = 16)\n",
    "\n",
    "plt.xticks([i for i in range(0, 29, 2)], fontsize = 12)\n",
    "plt.yticks(fontsize = 12)\n",
    "\n",
    "plt.show()"
   ]
  },
  {
   "cell_type": "markdown",
   "metadata": {},
   "source": [
    "<p>&emsp;3. Summary of chosen country</p>"
   ]
  },
  {
   "cell_type": "markdown",
   "metadata": {},
   "source": [
    "<p>Creating Dataframe and summary</p>"
   ]
  },
  {
   "cell_type": "code",
   "execution_count": null,
   "metadata": {},
   "outputs": [],
   "source": [
    "country = input(\"Insert country name: \")\n",
    "#country = \"Angola\" #    Example value\n",
    "data = querryList(table, queryWhereCountry, filter = country)\n",
    "\n",
    "dataframe = pd.DataFrame(data, columns = header)\n",
    "dataframe = dataframe.replace(['',0], np.nan)   #   Converting empty string  \n",
    "                                            #  and 0 to 'Not a Number'\n",
    "dataframe = dataframe.dropna() # removing records with NaN values\n",
    "dataframe = dataframe.drop(columns = 'Country')\n",
    "print(\"Chosen country: %s\"% country.upper())\n",
    "display(dataframe)\n",
    "\n",
    "maxYear = dataframe.loc[dataframe['Value'] == max(dataframe['Value']), 'Year']\n",
    "maxYear = maxYear.iloc[0]\n",
    "\n",
    "minYear = dataframe.loc[dataframe['Value'] == min(dataframe['Value']), 'Year']\n",
    "minYear = minYear.iloc[0]\n",
    "\n",
    "print(\"SUMMARY\")\n",
    "print(\"Year with highest value: %s\"% maxYear)\n",
    "print(\"Year with lowest value: %s\"% minYear)\n",
    "dataframe.describe()"
   ]
  },
  {
   "cell_type": "markdown",
   "metadata": {},
   "source": [
    "<p>Creating graph</p>"
   ]
  },
  {
   "cell_type": "code",
   "execution_count": null,
   "metadata": {},
   "outputs": [],
   "source": [
    "yearsCountry = list(dataframe[\"Year\"])\n",
    "valueCountry = list(dataframe[\"Value\"])\n",
    "\n",
    "plt.style.use('ggplot')\n",
    "plt.figure(figsize=(14,5))\n",
    "plt.plot(yearsCountry, valueCountry, linewidth = 4)\n",
    "\n",
    "plt.title('Production in %s'\n",
    "        '\\n  over the years 1990 - 2018' \n",
    "        '\\n (In thousand 60-kg bags)'% country, fontsize = 18)\n",
    "\n",
    "plt.xlabel('Year', fontsize = 16)\n",
    "plt.ylabel('(USD / kg)', fontsize = 16)\n",
    "\n",
    "plt.xticks([i for i in range(0, 29, 2)], fontsize = 12)\n",
    "plt.yticks(fontsize = 12)\n",
    "\n",
    "plt.show()"
   ]
  },
  {
   "cell_type": "markdown",
   "metadata": {},
   "source": [
    "<p>&emsp;4. Summary of chosen year</p>"
   ]
  },
  {
   "cell_type": "markdown",
   "metadata": {},
   "source": [
    "<p>Creating Dataframe and summary</p>"
   ]
  },
  {
   "cell_type": "code",
   "execution_count": null,
   "metadata": {},
   "outputs": [],
   "source": [
    "year = input(\"Insert year: \")\n",
    "#year = \"2018\" #    Example value\n",
    "data = querryList(table, queryWhereYear, filter = year)\n",
    "\n",
    "dataframe = pd.DataFrame(data, columns = header)\n",
    "dataframe = dataframe.replace(['', 0], np.nan)   #   Converting empty string  \n",
    "                                            # an 0 to 'Not a Number'\n",
    "dataframe = dataframe.dropna() # removing records with NaN values\n",
    "dataframe = dataframe.drop(columns = 'Year')\n",
    "print(\"Chosen year: %s\"% year)\n",
    "display(dataframe)\n",
    "dataframe.describe()\n",
    "\n",
    "maxCountry = dataframe.loc[dataframe['Value'] \n",
    "                        == max(dataframe['Value']), 'Country']\n",
    "maxCountry = maxCountry.iloc[0]\n",
    "\n",
    "minCountry = dataframe.loc[dataframe['Value'] \n",
    "                        == min(dataframe['Value']), 'Country']\n",
    "minCountry = minCountry.iloc[0]\n",
    "\n",
    "print(\"SUMMARY\")\n",
    "print(\"Country with highest value: %s\"% maxCountry)\n",
    "print(\"Country with lowest value: %s\"% minCountry)\n",
    "dataframe.describe()\n"
   ]
  },
  {
   "cell_type": "markdown",
   "metadata": {},
   "source": [
    "<p>Creating graph</p>\n"
   ]
  },
  {
   "cell_type": "code",
   "execution_count": null,
   "metadata": {},
   "outputs": [],
   "source": [
    "dataframe = dataframe.sort_values(by = 'Value', axis = 0)\n",
    "countriesYear = list(dataframe['Country'])\n",
    "valueYear = list(dataframe['Value'])\n",
    "\n",
    "plt.style.use('ggplot')\n",
    "plt.figure(figsize=(14,12))\n",
    "plt.barh(countriesYear, valueYear)\n",
    "plt.title(\"Production of roasted coffee in year %s (In USD/kg)\"% year)\n",
    "plt.ylabel(\"Country\")\n",
    "plt.xlabel(\"Value (In thousand 60-kg bags)\")\n",
    "\n",
    "plt.show()"
   ]
  }
 ],
 "metadata": {
  "kernelspec": {
   "display_name": "Python 3 (ipykernel)",
   "language": "python",
   "name": "python3"
  },
  "language_info": {
   "codemirror_mode": {
    "name": "ipython",
    "version": 3
   },
   "file_extension": ".py",
   "mimetype": "text/x-python",
   "name": "python",
   "nbconvert_exporter": "python",
   "pygments_lexer": "ipython3",
   "version": "3.11.4"
  }
 },
 "nbformat": 4,
 "nbformat_minor": 2
}
